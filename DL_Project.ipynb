{
 "cells": [
  {
   "cell_type": "markdown",
   "metadata": {},
   "source": [
    "# 🧠 Clasificación de la Enfermedad de Alzheimer\n",
    "Integrantes\n",
    "- Diego Alexander Hernández Silvestre - 21270\n",
    "- Linda Inés Jiménez Vides - 21169\n",
    "- Mario Antonio Guerra Morales - 21008\n",
    "- Kristopher Javier Alvarado López - 21188"
   ]
  },
  {
   "cell_type": "code",
   "execution_count": 1,
   "metadata": {},
   "outputs": [],
   "source": [
    "import os\n",
    "from PIL import Image\n",
    "from torchvision import transforms\n",
    "from torch.utils.data import DataLoader, Dataset\n",
    "import random\n",
    "import shutil"
   ]
  },
  {
   "cell_type": "markdown",
   "metadata": {},
   "source": [
    "#### 📊 Balanceo de Data"
   ]
  },
  {
   "cell_type": "code",
   "execution_count": 7,
   "metadata": {},
   "outputs": [
    {
     "name": "stdout",
     "output_type": "stream",
     "text": [
      "Aplicando augmentación en MildDemented. Tamaño actual: 717.\n",
      "Aplicando augmentación en ModerateDemented. Tamaño actual: 52.\n",
      "Aplicando augmentación en NonDemented. Tamaño actual: 2560.\n",
      "Aplicando augmentación en VeryMildDemented. Tamaño actual: 1792.\n"
     ]
    }
   ],
   "source": [
    "# Definir las transformaciones que aplicarás\n",
    "augmentations = transforms.Compose([\n",
    "    transforms.RandomRotation(degrees=10),  # Rotación de ±10 grados\n",
    "    transforms.RandomAffine(degrees=0, translate=(0.02, 0.02)),  # Desplazamiento horizontal/vertical 2%\n",
    "    transforms.RandomResizedCrop(size=(224, 224), scale=(0.92, 1.08)),  # Zoom hasta 8%\n",
    "    transforms.ToTensor(),\n",
    "])\n",
    "\n",
    "# Clase personalizada para cargar imágenes desde carpetas\n",
    "class DementiaDataset(Dataset):\n",
    "    def __init__(self, image_dir, transform=None):\n",
    "        self.image_dir = image_dir\n",
    "        self.image_list = os.listdir(image_dir)\n",
    "        self.transform = transform\n",
    "\n",
    "    def __len__(self):\n",
    "        return len(self.image_list)\n",
    "\n",
    "    def __getitem__(self, idx):\n",
    "        img_path = os.path.join(self.image_dir, self.image_list[idx])\n",
    "        image = Image.open(img_path).convert('RGB')\n",
    "        if self.transform:\n",
    "            image = self.transform(image)\n",
    "        return image\n",
    "\n",
    "# Directorios de las carpetas de imágenes\n",
    "folders = {\n",
    "    \"MildDemented\": \"data/train/MildDemented\",\n",
    "    \"ModerateDemented\": \"data/train/ModerateDemented\",\n",
    "    \"NonDemented\": \"data/train/NonDemented\",\n",
    "    \"VeryMildDemented\": \"data/train/VeryMildDemented\"\n",
    "}\n",
    "\n",
    "target_size = 3200  # Número objetivo de imágenes por clase\n",
    "\n",
    "# Función para aplicar augmentación y guardar nuevas imágenes\n",
    "def augment_and_save(dataset, save_dir, current_size, target_size):\n",
    "    counter = current_size\n",
    "    loader = DataLoader(dataset, batch_size=1, shuffle=True)\n",
    "    \n",
    "    while counter < target_size:\n",
    "        for batch in loader:\n",
    "            augmented_img = transforms.ToPILImage()(batch[0])  # Convertir tensor a imagen PIL\n",
    "            augmented_img.save(os.path.join(save_dir, f'augmented_{counter}.jpg'))  # Guardar imagen\n",
    "            counter += 1\n",
    "            if counter >= target_size:\n",
    "                break\n",
    "\n",
    "# Iterar sobre cada carpeta\n",
    "for label, folder in folders.items():\n",
    "    current_images = os.listdir(folder)\n",
    "    current_size = len(current_images)\n",
    "    \n",
    "    if current_size < target_size:\n",
    "        print(f\"Aplicando augmentación en {label}. Tamaño actual: {current_size}.\")\n",
    "        \n",
    "        # Cargar el dataset de la clase actual\n",
    "        dataset = DementiaDataset(image_dir=folder, transform=augmentations)\n",
    "        \n",
    "        # Aumentar imágenes y guardar\n",
    "        augment_and_save(dataset, folder, current_size, target_size)\n",
    "        \n",
    "    else:\n",
    "        print(f\"No se necesita augmentación en {label}. Tamaño actual: {current_size}.\")\n"
   ]
  },
  {
   "cell_type": "code",
   "execution_count": 8,
   "metadata": {},
   "outputs": [
    {
     "name": "stdout",
     "output_type": "stream",
     "text": [
      "Clase: MildDemented. Tamaño actual: 3200.\n",
      "Clase: ModerateDemented. Tamaño actual: 3200.\n",
      "Clase: NonDemented. Tamaño actual: 3200.\n",
      "Clase: VeryMildDemented. Tamaño actual: 3200.\n"
     ]
    }
   ],
   "source": [
    "for label, folder in folders.items():\n",
    "    current_images = os.listdir(folder)\n",
    "    current_size = len(current_images)\n",
    "    print(f\"Clase: {label}. Tamaño actual: {current_size}.\")"
   ]
  },
  {
   "cell_type": "markdown",
   "metadata": {},
   "source": [
    "#### 🏋🏽‍♀️ División entrenamiento y validación"
   ]
  },
  {
   "cell_type": "code",
   "execution_count": 11,
   "metadata": {},
   "outputs": [
    {
     "name": "stdout",
     "output_type": "stream",
     "text": [
      "Total de imágenes en train: 8960\n",
      "Total de imágenes en validation: 3840\n",
      "División de imágenes de train en train/validation completada.\n"
     ]
    }
   ],
   "source": [
    "# Directorios donde se guardarán las imágenes divididas\n",
    "train_folder = \"data/train/\"\n",
    "\n",
    "train_dir = \"new_data/train/\"\n",
    "val_dir = \"new_data/validation/\"\n",
    "\n",
    "# Crear los directorios de train y validation si no existen\n",
    "os.makedirs(train_dir, exist_ok=True)\n",
    "os.makedirs(val_dir, exist_ok=True)\n",
    "\n",
    "# Contadores para el total de imágenes en train y validation\n",
    "total_train_images = 0\n",
    "total_val_images = 0\n",
    "\n",
    "# Función para dividir y copiar las imágenes de train en train/validation\n",
    "def split_train_validation(train_folder, label, train_dir, val_dir, split_ratio=0.7):\n",
    "    global total_train_images, total_val_images\n",
    "    images = os.listdir(os.path.join(train_folder, label))\n",
    "    random.shuffle(images)\n",
    "    \n",
    "    # Calcular cuántas imágenes irán a train y cuántas a validation\n",
    "    split_index = int(len(images) * split_ratio)\n",
    "    train_images = images[:split_index]\n",
    "    val_images = images[split_index:]\n",
    "    \n",
    "    # Actualizar los contadores\n",
    "    total_train_images += len(train_images)\n",
    "    total_val_images += len(val_images)\n",
    "    \n",
    "    # Crear carpetas de train y validation para la clase actual\n",
    "    os.makedirs(os.path.join(train_dir, label), exist_ok=True)\n",
    "    os.makedirs(os.path.join(val_dir, label), exist_ok=True)\n",
    "    \n",
    "    # Copiar imágenes de train\n",
    "    for img in train_images:\n",
    "        shutil.copy(os.path.join(train_folder, label, img), os.path.join(train_dir, label, img))\n",
    "    \n",
    "    # Copiar imágenes de validation\n",
    "    for img in val_images:\n",
    "        shutil.copy(os.path.join(train_folder, label, img), os.path.join(val_dir, label, img))\n",
    "\n",
    "# Iterar sobre las carpetas de cada clase dentro de train\n",
    "for label in os.listdir(train_folder):\n",
    "    split_train_validation(train_folder, label, train_dir, val_dir, split_ratio=0.7)\n",
    "\n",
    "# Imprimir el total de imágenes en train y validation\n",
    "print(f\"Total de imágenes en train: {total_train_images}\")\n",
    "print(f\"Total de imágenes en validation: {total_val_images}\")\n",
    "print(\"División de imágenes de train en train/validation completada.\")"
   ]
  }
 ],
 "metadata": {
  "kernelspec": {
   "display_name": ".venv",
   "language": "python",
   "name": "python3"
  },
  "language_info": {
   "codemirror_mode": {
    "name": "ipython",
    "version": 3
   },
   "file_extension": ".py",
   "mimetype": "text/x-python",
   "name": "python",
   "nbconvert_exporter": "python",
   "pygments_lexer": "ipython3",
   "version": "3.11.9"
  }
 },
 "nbformat": 4,
 "nbformat_minor": 2
}
